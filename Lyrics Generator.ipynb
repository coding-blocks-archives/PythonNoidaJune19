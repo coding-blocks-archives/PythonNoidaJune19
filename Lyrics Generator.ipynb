{
 "cells": [
  {
   "cell_type": "code",
   "execution_count": 101,
   "metadata": {},
   "outputs": [],
   "source": [
    "text = open(\"rapgod.txt\", \"r\").read()"
   ]
  },
  {
   "cell_type": "code",
   "execution_count": 102,
   "metadata": {},
   "outputs": [],
   "source": [
    "def createTable(text, k = 3):\n",
    "    T = {}\n",
    "    for i in range(len(text) - k):\n",
    "        I = text[i:i+k]\n",
    "        O = text[i+k]\n",
    "        if I in T:\n",
    "            if O in T[I]:\n",
    "                T[I][O] += 1\n",
    "            else:\n",
    "                T[I][O] = 1\n",
    "        else:\n",
    "            T[I] = {\n",
    "                O: 1\n",
    "            }\n",
    "    for key, value in T.items():\n",
    "        total = sum(T[key].values())\n",
    "        for key1 in T[key]:\n",
    "            T[key][key1] /= total\n",
    "    return T"
   ]
  },
  {
   "cell_type": "code",
   "execution_count": 103,
   "metadata": {},
   "outputs": [],
   "source": [
    "table = createTable(text)"
   ]
  },
  {
   "cell_type": "code",
   "execution_count": 104,
   "metadata": {},
   "outputs": [],
   "source": [
    "import random"
   ]
  },
  {
   "cell_type": "code",
   "execution_count": 105,
   "metadata": {},
   "outputs": [
    {
     "data": {
      "text/plain": [
       "['banana']"
      ]
     },
     "execution_count": 105,
     "metadata": {},
     "output_type": "execute_result"
    }
   ],
   "source": [
    "random.choices([\"apple\", \"mango\", \"banana\"], weights=(1, 2, 30000))"
   ]
  },
  {
   "cell_type": "code",
   "execution_count": 106,
   "metadata": {},
   "outputs": [],
   "source": [
    "def sampleNext(inp, T):\n",
    "    inp = inp[-3:]\n",
    "    if inp in T:\n",
    "        outcomes = list(T[inp].keys())\n",
    "        probs = list(T[inp].values())\n",
    "        return random.choices(outcomes, weights=probs)[0]\n",
    "    else:\n",
    "        return ' '"
   ]
  },
  {
   "cell_type": "code",
   "execution_count": 107,
   "metadata": {},
   "outputs": [
    {
     "data": {
      "text/plain": [
       "' '"
      ]
     },
     "execution_count": 107,
     "metadata": {},
     "output_type": "execute_result"
    }
   ],
   "source": [
    "sampleNext(\"worl\", table)"
   ]
  },
  {
   "cell_type": "code",
   "execution_count": 108,
   "metadata": {},
   "outputs": [],
   "source": [
    "def generateText(start, table, length = 1000):\n",
    "    for _ in range(length):\n",
    "        start += sampleNext(start, table)\n",
    "    return start"
   ]
  },
  {
   "cell_type": "code",
   "execution_count": 110,
   "metadata": {},
   "outputs": [
    {
     "name": "stdout",
     "output_type": "stream",
     "text": [
      "hellahol with to fuse if hell you were looking not for got, like while\n",
      "One was broation lead atter fag attempt thing's when nod\n",
      "And he front somethis rudent\n",
      "Let a take in the Mac in my Rapbot, give your fat know what Mathen king off, big and I'm Back\n",
      "I'm the secretard, (JJ Fame I'm outhfull therse I happen, Yell my for then nod, burstaking I'm ally feel ling immortain' you man\n",
      "Innovatermatch you were's gotta made to and I've to the a kings\n",
      "But I walk it the for Satality like and you\n",
      "It's got boy\n",
      "Hey, you thing box?\n",
      "Let 'em a time work forevolvers LP\n",
      "Only could nod, but I doberal my Phard\n",
      "Sing\n",
      "And man\n",
      "While time ass on Lose I way to trippidy-yac\n",
      "And at yout I'm all be Trash God\n",
      "All thinks to hurt you, this cheel in a huma keep up with anything to gibbermatch you\"\n",
      "Lyricock not a Mac intly my feeling Heavy D and, bus me Rappidy bad\n",
      "'Cause Fabout looken I do is that I don't know throws\n",
      "You do the ball the pad\n",
      "'Cause I\n",
      "Was gay bad\n",
      "For throw you\n",
      "What half and crunch gring, I've got you sack in t\n"
     ]
    }
   ],
   "source": [
    "print(generateText(\"hell\", table))"
   ]
  },
  {
   "cell_type": "code",
   "execution_count": null,
   "metadata": {},
   "outputs": [],
   "source": []
  },
  {
   "cell_type": "code",
   "execution_count": null,
   "metadata": {},
   "outputs": [],
   "source": []
  }
 ],
 "metadata": {
  "kernelspec": {
   "display_name": "Python 3",
   "language": "python",
   "name": "python3"
  },
  "language_info": {
   "codemirror_mode": {
    "name": "ipython",
    "version": 3
   },
   "file_extension": ".py",
   "mimetype": "text/x-python",
   "name": "python",
   "nbconvert_exporter": "python",
   "pygments_lexer": "ipython3",
   "version": "3.7.0"
  }
 },
 "nbformat": 4,
 "nbformat_minor": 2
}
